{
  "nbformat": 4,
  "nbformat_minor": 0,
  "metadata": {
    "colab": {
      "provenance": [],
      "authorship_tag": "ABX9TyNgOUv+ExAkTck0GsUdLMA7",
      "include_colab_link": true
    },
    "kernelspec": {
      "name": "python3",
      "display_name": "Python 3"
    },
    "language_info": {
      "name": "python"
    }
  },
  "cells": [
    {
      "cell_type": "markdown",
      "metadata": {
        "id": "view-in-github",
        "colab_type": "text"
      },
      "source": [
        "<a href=\"https://colab.research.google.com/github/Shravani-std/Deep-Learning/blob/main/Backpropogation_classification.ipynb\" target=\"_parent\"><img src=\"https://colab.research.google.com/assets/colab-badge.svg\" alt=\"Open In Colab\"/></a>"
      ]
    },
    {
      "cell_type": "code",
      "execution_count": null,
      "metadata": {
        "id": "fhHVF_Xyx0hw"
      },
      "outputs": [],
      "source": [
        "import numpy as np\n",
        "import pandas as pd\n"
      ]
    },
    {
      "cell_type": "code",
      "source": [
        "df= pd.DataFrame([[8,8,4], [7,9,5], [6,10,6],[5,12,7]], columns=['cgpa', 'profile_score','lpa'])\n"
      ],
      "metadata": {
        "id": "5a3IdUVOArdC"
      },
      "execution_count": null,
      "outputs": []
    },
    {
      "cell_type": "code",
      "source": [
        "def init_para(layer_dims):\n",
        "  np.random.seed(3)\n",
        "  parameters = {}\n",
        "  L = len(layer_dims)\n",
        "\n",
        "  for l in range(1, L):\n",
        "    parameters['w' + str(l)] = np.ones((layer_dims[l-1], layer_dims[l]))* 0.1\n",
        "    parameters['b' + str(l)] = np.zeros((layer_dims[l], 1))\n",
        "\n",
        "  return parameters\n"
      ],
      "metadata": {
        "id": "GS-6wwiuArbP"
      },
      "execution_count": null,
      "outputs": []
    },
    {
      "cell_type": "code",
      "source": [
        "init_para([2,2,1])"
      ],
      "metadata": {
        "colab": {
          "base_uri": "https://localhost:8080/"
        },
        "id": "rO7jNb04ArYx",
        "outputId": "0647302d-036f-4bf6-8826-69c030fdaff6"
      },
      "execution_count": null,
      "outputs": [
        {
          "output_type": "execute_result",
          "data": {
            "text/plain": [
              "{'w1': array([[0.1, 0.1],\n",
              "        [0.1, 0.1]]),\n",
              " 'b1': array([[0.],\n",
              "        [0.]]),\n",
              " 'w2': array([[0.1],\n",
              "        [0.1]]),\n",
              " 'b2': array([[0.]])}"
            ]
          },
          "metadata": {},
          "execution_count": 4
        }
      ]
    },
    {
      "cell_type": "code",
      "source": [
        "def sigmoid(z):\n",
        "  A = 1 / ( 1 + np.exp(-z))\n",
        "\n",
        "  return A"
      ],
      "metadata": {
        "id": "4rEscE7dBHXm"
      },
      "execution_count": null,
      "outputs": []
    },
    {
      "cell_type": "code",
      "source": [
        "def linear_forward(A_prev, w, b):\n",
        "  z = np.dot(w.T, A_prev) + b\n",
        "  A = sigmoid(z)\n",
        "  return A"
      ],
      "metadata": {
        "id": "PEXE3YqIArWI"
      },
      "execution_count": null,
      "outputs": []
    },
    {
      "cell_type": "code",
      "source": [
        "# Forward Propogation\n",
        "\n",
        "def L_Layer_forward(X, parameters):\n",
        "  A = X\n",
        "  L = len(parameters) // 2\n",
        "\n",
        "  for l in range(1, L+1):\n",
        "    A_prev = A\n",
        "    w1 = parameters['w' + str(l)]\n",
        "    b = parameters['b' + str(l)]\n",
        "\n",
        "    print(\"A\"+ str(l - 1)+ \" : \", A_prev)\n",
        "    print(\"w\" + str(l) + \" : \", w1)\n",
        "    print(\"b\" + str(l) + \" : \", b)\n",
        "    print(\"--\"*20)\n",
        "\n",
        "    A = linear_forward(A_prev, w1, b)\n",
        "    print(\"A\" + str(l) + \": \", A)\n",
        "    print( \"**\"*20 )\n",
        "\n",
        "  return A, A_prev"
      ],
      "metadata": {
        "id": "Ues5eWFAAxeV"
      },
      "execution_count": null,
      "outputs": []
    },
    {
      "cell_type": "code",
      "source": [
        "X = df[['cgpa', 'profile_score']].values[0].reshape(2,1)\n",
        "y = df[['lpa']].values[0][0]\n",
        "\n",
        "parameters = init_para([2,2,1])\n",
        "L_Layer_forward(X, parameters)"
      ],
      "metadata": {
        "colab": {
          "base_uri": "https://localhost:8080/"
        },
        "id": "ilPmUoahAyKh",
        "outputId": "ec2b3a18-dafb-434c-9795-b21b7d8dcb2e"
      },
      "execution_count": null,
      "outputs": [
        {
          "output_type": "stream",
          "name": "stdout",
          "text": [
            "A0 :  [[8]\n",
            " [8]]\n",
            "w1 :  [[0.1 0.1]\n",
            " [0.1 0.1]]\n",
            "b1 :  [[0.]\n",
            " [0.]]\n",
            "----------------------------------------\n",
            "A1:  [[0.83201839]\n",
            " [0.83201839]]\n",
            "****************************************\n",
            "A1 :  [[0.83201839]\n",
            " [0.83201839]]\n",
            "w2 :  [[0.1]\n",
            " [0.1]]\n",
            "b2 :  [[0.]]\n",
            "----------------------------------------\n",
            "A2:  [[0.54150519]]\n",
            "****************************************\n"
          ]
        },
        {
          "output_type": "execute_result",
          "data": {
            "text/plain": [
              "(array([[0.54150519]]),\n",
              " array([[0.83201839],\n",
              "        [0.83201839]]))"
            ]
          },
          "metadata": {},
          "execution_count": 8
        }
      ]
    },
    {
      "cell_type": "code",
      "source": [
        "# Calculate loss\n",
        "\n",
        "(y- 0.32)**2"
      ],
      "metadata": {
        "colab": {
          "base_uri": "https://localhost:8080/"
        },
        "id": "8UJcIBZ3A1kl",
        "outputId": "e89bb60d-8f30-4530-b028-865e9999a4e4"
      },
      "execution_count": null,
      "outputs": [
        {
          "output_type": "execute_result",
          "data": {
            "text/plain": [
              "np.float64(13.5424)"
            ]
          },
          "metadata": {},
          "execution_count": 9
        }
      ]
    },
    {
      "cell_type": "code",
      "source": [
        "def update_parameters(parameters,y,y_hat,A1,X):\n",
        "  parameters['w2'][0][0] = parameters['w2'][0][0] + (0.0001 * (y - y_hat)*A1[0][0])\n",
        "  parameters['w2'][1][0] = parameters['w2'][1][0] + (0.0001 * (y - y_hat)*A1[1][0])\n",
        "  parameters['b2'][0][0] = parameters['b2'][0][0] + (0.0001 * (y - y_hat))\n",
        "\n",
        "  parameters['w1'][0][0] = parameters['w1'][0][0] + (0.0001 * (y - y_hat)*parameters['w2'][0][0]*A1[0][0]*(1-A1[0][0])*X[0][0])\n",
        "  parameters['w1'][0][1] = parameters['w1'][0][1] + (0.0001 * (y - y_hat)*parameters['w2'][0][0]*A1[0][0]*(1-A1[0][0])*X[1][0])\n",
        "  parameters['b1'][0][0] = parameters['b1'][0][0] + (0.0001 * (y - y_hat)*parameters['w2'][0][0]*A1[0][0]*(1-A1[0][0]))\n",
        "\n",
        "  parameters['w1'][1][0] = parameters['w1'][1][0] + (0.0001 * (y - y_hat)*parameters['w2'][1][0]*A1[1][0]*(1-A1[1][0])*X[0][0])\n",
        "  parameters['w1'][1][1] = parameters['w1'][1][1] + (0.0001 * (y - y_hat)*parameters['w2'][1][0]*A1[1][0]*(1-A1[1][0])*X[1][0])\n",
        "  parameters['b1'][1][0] = parameters['b1'][1][0] + (0.0001 * (y - y_hat)*parameters['w2'][1][0]*A1[1][0]*(1-A1[1][0]))"
      ],
      "metadata": {
        "id": "d7SOSZmeA1ip"
      },
      "execution_count": null,
      "outputs": []
    },
    {
      "cell_type": "code",
      "source": [
        "X = df[['cgpa', 'profile_score']].values[0].reshape(2,1)\n",
        "y = df[['lpa']].values[0][0]\n",
        "\n",
        "parameters = init_para([2,2,1])\n",
        "\n",
        "y_hat, A1 = L_Layer_forward(X, parameters)\n"
      ],
      "metadata": {
        "colab": {
          "base_uri": "https://localhost:8080/"
        },
        "id": "zrc_7ofIA1gl",
        "outputId": "997c76ab-5f03-45e2-cb27-3f9cb8f93dc8"
      },
      "execution_count": null,
      "outputs": [
        {
          "output_type": "stream",
          "name": "stdout",
          "text": [
            "A0 :  [[8]\n",
            " [8]]\n",
            "w1 :  [[0.1 0.1]\n",
            " [0.1 0.1]]\n",
            "b1 :  [[0.]\n",
            " [0.]]\n",
            "----------------------------------------\n",
            "A1:  [[0.83201839]\n",
            " [0.83201839]]\n",
            "****************************************\n",
            "A1 :  [[0.83201839]\n",
            " [0.83201839]]\n",
            "w2 :  [[0.1]\n",
            " [0.1]]\n",
            "b2 :  [[0.]]\n",
            "----------------------------------------\n",
            "A2:  [[0.54150519]]\n",
            "****************************************\n"
          ]
        }
      ]
    },
    {
      "cell_type": "code",
      "source": [
        "y_hat = y_hat[0][0]\n",
        "y_hat"
      ],
      "metadata": {
        "colab": {
          "base_uri": "https://localhost:8080/"
        },
        "id": "WzSKQhvlA1eV",
        "outputId": "40d95881-1339-4b69-af7d-9eb80e8ea8c0"
      },
      "execution_count": null,
      "outputs": [
        {
          "output_type": "execute_result",
          "data": {
            "text/plain": [
              "np.float64(0.5415051895671072)"
            ]
          },
          "metadata": {},
          "execution_count": 18
        }
      ]
    },
    {
      "cell_type": "code",
      "source": [
        "A1"
      ],
      "metadata": {
        "colab": {
          "base_uri": "https://localhost:8080/"
        },
        "id": "yTMSq1DIA62B",
        "outputId": "f5e33b8a-2b31-4a52-960a-ade39e83cb5d"
      },
      "execution_count": null,
      "outputs": [
        {
          "output_type": "execute_result",
          "data": {
            "text/plain": [
              "array([[0.83201839],\n",
              "       [0.83201839]])"
            ]
          },
          "metadata": {},
          "execution_count": 19
        }
      ]
    },
    {
      "cell_type": "code",
      "source": [
        "parameters"
      ],
      "metadata": {
        "colab": {
          "base_uri": "https://localhost:8080/"
        },
        "id": "rtI_t_R4A6yp",
        "outputId": "f7f70a12-0a9c-4743-8e0d-4d056c6afe4c"
      },
      "execution_count": null,
      "outputs": [
        {
          "output_type": "execute_result",
          "data": {
            "text/plain": [
              "{'w1': array([[0.1, 0.1],\n",
              "        [0.1, 0.1]]),\n",
              " 'b1': array([[0.],\n",
              "        [0.]]),\n",
              " 'w2': array([[0.1],\n",
              "        [0.1]]),\n",
              " 'b2': array([[0.]])}"
            ]
          },
          "metadata": {},
          "execution_count": 20
        }
      ]
    },
    {
      "cell_type": "code",
      "source": [
        "# epochs Implementation\n",
        "parameters = init_para([2,2,1])\n",
        "epochs = 5\n",
        "\n",
        "for j in range(epochs):\n",
        "  loss = []  # Initialize loss list for each epoch\n",
        "  for i in range(df.shape[0]):\n",
        "    X =  df[['cgpa', 'profile_score']].values[i].reshape(-1,1) # Fixed: Access values before reshaping\n",
        "    y = df[['lpa']].values[i][0]\n",
        "\n",
        "    y_hat, A1 = L_Layer_forward(X,parameters)\n",
        "    y_hat = y_hat[0][0]\n",
        "\n",
        "    update_parameters(parameters, y, y_hat, A1, X)\n",
        "\n",
        "    loss.append((y - y_hat) ** 2)\n",
        "\n",
        "  print(\"Epoch: \", j+1, 'Loss - ', np.array(loss).mean())"
      ],
      "metadata": {
        "colab": {
          "base_uri": "https://localhost:8080/"
        },
        "id": "vbmuooYUA6wZ",
        "outputId": "ee291dd1-4a4e-45f1-ac24-df932b0b6eae"
      },
      "execution_count": null,
      "outputs": [
        {
          "output_type": "stream",
          "name": "stdout",
          "text": [
            "A0 :  [[8]\n",
            " [8]]\n",
            "w1 :  [[0.1 0.1]\n",
            " [0.1 0.1]]\n",
            "b1 :  [[0.]\n",
            " [0.]]\n",
            "----------------------------------------\n",
            "A1:  [[0.83201839]\n",
            " [0.83201839]]\n",
            "****************************************\n",
            "A1 :  [[0.83201839]\n",
            " [0.83201839]]\n",
            "w2 :  [[0.1]\n",
            " [0.1]]\n",
            "b2 :  [[0.]]\n",
            "----------------------------------------\n",
            "A2:  [[0.54150519]]\n",
            "****************************************\n",
            "A0 :  [[7]\n",
            " [9]]\n",
            "w1 :  [[0.10003878 0.10003878]\n",
            " [0.10003878 0.10003878]]\n",
            "b1 :  [[4.84763268e-06]\n",
            " [4.84763268e-06]]\n",
            "----------------------------------------\n",
            "A1:  [[0.83210577]\n",
            " [0.83210577]]\n",
            "****************************************\n",
            "A1 :  [[0.83210577]\n",
            " [0.83210577]]\n",
            "w2 :  [[0.10028775]\n",
            " [0.10028775]]\n",
            "b2 :  [[0.00034585]]\n",
            "----------------------------------------\n",
            "A2:  [[0.54171428]]\n",
            "****************************************\n",
            "A0 :  [[ 6]\n",
            " [10]]\n",
            "w1 :  [[0.10008267 0.10009521]\n",
            " [0.10008267 0.10009521]]\n",
            "b1 :  [[1.11171434e-05]\n",
            " [1.11171434e-05]]\n",
            "----------------------------------------\n",
            "A1:  [[0.83220472]\n",
            " [0.83223273]]\n",
            "****************************************\n",
            "A1 :  [[0.83220472]\n",
            " [0.83223273]]\n",
            "w2 :  [[0.10065873]\n",
            " [0.10065873]]\n",
            "b2 :  [[0.00079168]]\n",
            "----------------------------------------\n",
            "A2:  [[0.54198387]]\n",
            "****************************************\n",
            "A0 :  [[ 5]\n",
            " [12]]\n",
            "w1 :  [[0.10012891 0.10017227]\n",
            " [0.1001289  0.10017226]]\n",
            "b1 :  [[1.88235427e-05]\n",
            " [1.88225166e-05]]\n",
            "----------------------------------------\n",
            "A1:  [[0.84582317]\n",
            " [0.84591928]]\n",
            "****************************************\n",
            "A1 :  [[0.84582317]\n",
            " [0.84591928]]\n",
            "w2 :  [[0.10111295]\n",
            " [0.10111296]]\n",
            "b2 :  [[0.00133748]]\n",
            "----------------------------------------\n",
            "A2:  [[0.54299222]]\n",
            "****************************************\n",
            "Epoch:  1 Loss -  25.83009687282993\n",
            "A0 :  [[8]\n",
            " [8]]\n",
            "w1 :  [[0.10017171 0.10027499]\n",
            " [0.10017168 0.10027493]]\n",
            "b1 :  [[2.73835915e-05]\n",
            " [2.73782082e-05]]\n",
            "----------------------------------------\n",
            "A1:  [[0.8324058 ]\n",
            " [0.83263617]]\n",
            "****************************************\n",
            "A1 :  [[0.8324058 ]\n",
            " [0.83263617]]\n",
            "w2 :  [[0.1016591 ]\n",
            " [0.10165917]]\n",
            "b2 :  [[0.00198318]]\n",
            "----------------------------------------\n",
            "A2:  [[0.54270815]]\n",
            "****************************************\n",
            "A0 :  [[7]\n",
            " [9]]\n",
            "w1 :  [[0.10021104 0.10031433]\n",
            " [0.10021097 0.10031422]]\n",
            "b1 :  [[3.23006354e-05]\n",
            " [3.22898596e-05]]\n",
            "----------------------------------------\n",
            "A1:  [[0.83249421]\n",
            " [0.83272448]]\n",
            "****************************************\n",
            "A1 :  [[0.83249421]\n",
            " [0.83272448]]\n",
            "w2 :  [[0.10194688]\n",
            " [0.10194704]]\n",
            "b2 :  [[0.00232891]]\n",
            "----------------------------------------\n",
            "A2:  [[0.54291736]]\n",
            "****************************************\n",
            "A0 :  [[ 6]\n",
            " [10]]\n",
            "w1 :  [[0.10025556 0.10037156]\n",
            " [0.10025544 0.10037139]]\n",
            "b1 :  [[3.86599966e-05]\n",
            " [3.86422512e-05]]\n",
            "----------------------------------------\n",
            "A1:  [[0.83259432]\n",
            " [0.83285279]]\n",
            "****************************************\n",
            "A1 :  [[0.83259432]\n",
            " [0.83285279]]\n",
            "w2 :  [[0.10231793]\n",
            " [0.10231819]]\n",
            "b2 :  [[0.00277462]]\n",
            "----------------------------------------\n",
            "A2:  [[0.5431871]]\n",
            "****************************************\n",
            "A0 :  [[ 5]\n",
            " [12]]\n",
            "w1 :  [[0.10030246 0.10044973]\n",
            " [0.10030228 0.10044946]]\n",
            "b1 :  [[4.64766100e-05]\n",
            " [4.64492492e-05]]\n",
            "----------------------------------------\n",
            "A1:  [[0.84621086]\n",
            " [0.84653625]]\n",
            "****************************************\n",
            "A1 :  [[0.84621086]\n",
            " [0.84653625]]\n",
            "w2 :  [[0.10277226]\n",
            " [0.10277267]]\n",
            "b2 :  [[0.0033203]]\n",
            "----------------------------------------\n",
            "A2:  [[0.5442063]]\n",
            "****************************************\n",
            "Epoch:  2 Loss -  25.818132985043242\n",
            "A0 :  [[8]\n",
            " [8]]\n",
            "w1 :  [[0.10034586 0.10055389]\n",
            " [0.10034561 0.10055345]]\n",
            "b1 :  [[5.51568604e-05]\n",
            " [5.51145157e-05]]\n",
            "----------------------------------------\n",
            "A1:  [[0.83279778]\n",
            " [0.83326053]]\n",
            "****************************************\n",
            "A1 :  [[0.83279778]\n",
            " [0.83326053]]\n",
            "w2 :  [[0.10331856]\n",
            " [0.10331917]]\n",
            "b2 :  [[0.00396588]]\n",
            "----------------------------------------\n",
            "A2:  [[0.54391186]]\n",
            "****************************************\n",
            "A0 :  [[7]\n",
            " [9]]\n",
            "w1 :  [[0.10038575 0.10059378]\n",
            " [0.10038541 0.10059325]]\n",
            "b1 :  [[6.01428678e-05]\n",
            " [6.00895237e-05]]\n",
            "----------------------------------------\n",
            "A1:  [[0.83288718]\n",
            " [0.8333497 ]]\n",
            "****************************************\n",
            "A1 :  [[0.83288718]\n",
            " [0.8333497 ]]\n",
            "w2 :  [[0.10360638]\n",
            " [0.10360715]]\n",
            "b2 :  [[0.00431149]]\n",
            "----------------------------------------\n",
            "A2:  [[0.54412117]]\n",
            "****************************************\n",
            "A0 :  [[ 6]\n",
            " [10]]\n",
            "w1 :  [[0.10043089 0.10065182]\n",
            " [0.10043045 0.10065116]]\n",
            "b1 :  [[6.65915166e-05]\n",
            " [6.65239560e-05]]\n",
            "----------------------------------------\n",
            "A1:  [[0.83298839]\n",
            " [0.83347927]]\n",
            "****************************************\n",
            "A1 :  [[0.83298839]\n",
            " [0.83347927]]\n",
            "w2 :  [[0.10397751]\n",
            " [0.10397848]]\n",
            "b2 :  [[0.00475708]]\n",
            "----------------------------------------\n",
            "A2:  [[0.54439107]]\n",
            "****************************************\n",
            "A0 :  [[ 5]\n",
            " [12]]\n",
            "w1 :  [[0.10047844 0.10073108]\n",
            " [0.10047789 0.10073023]]\n",
            "b1 :  [[7.45176657e-05]\n",
            " [7.44315603e-05]]\n",
            "----------------------------------------\n",
            "A1:  [[0.84660286]\n",
            " [0.84715931]]\n",
            "****************************************\n",
            "A1 :  [[0.84660286]\n",
            " [0.84715931]]\n",
            "w2 :  [[0.10443195]\n",
            " [0.1044332 ]]\n",
            "b2 :  [[0.00530264]]\n",
            "----------------------------------------\n",
            "A2:  [[0.54542108]]\n",
            "****************************************\n",
            "Epoch:  3 Loss -  25.806164796663534\n",
            "A0 :  [[8]\n",
            " [8]]\n",
            "w1 :  [[0.10052244 0.10083667]\n",
            " [0.10052176 0.10083552]]\n",
            "b1 :  [[8.33173048e-05]\n",
            " [8.32051754e-05]]\n",
            "----------------------------------------\n",
            "A1:  [[0.83319426]\n",
            " [0.83389131]]\n",
            "****************************************\n",
            "A1 :  [[0.83319426]\n",
            " [0.83389131]]\n",
            "w2 :  [[0.1049784]\n",
            " [0.10498  ]]\n",
            "b2 :  [[0.00594809]]\n",
            "----------------------------------------\n",
            "A2:  [[0.54511631]]\n",
            "****************************************\n",
            "A0 :  [[7]\n",
            " [9]]\n",
            "w1 :  [[0.10056288 0.10087711]\n",
            " [0.10056206 0.10087582]]\n",
            "b1 :  [[8.83718242e-05]\n",
            " [8.82428724e-05]]\n",
            "----------------------------------------\n",
            "A1:  [[0.8332846 ]\n",
            " [0.83398128]]\n",
            "****************************************\n",
            "A1 :  [[0.8332846 ]\n",
            " [0.83398128]]\n",
            "w2 :  [[0.10526626]\n",
            " [0.1052681 ]]\n",
            "b2 :  [[0.00629358]]\n",
            "----------------------------------------\n",
            "A2:  [[0.54532572]]\n",
            "****************************************\n",
            "A0 :  [[ 6]\n",
            " [10]]\n",
            "w1 :  [[0.10060864 0.10093595]\n",
            " [0.10060767 0.10093446]]\n",
            "b1 :  [[9.49091929e-05]\n",
            " [9.47584982e-05]]\n",
            "----------------------------------------\n",
            "A1:  [[0.83338688]\n",
            " [0.83411203]]\n",
            "****************************************\n",
            "A1 :  [[0.83338688]\n",
            " [0.83411203]]\n",
            "w2 :  [[0.10563746]\n",
            " [0.10563961]]\n",
            "b2 :  [[0.00673905]]\n",
            "----------------------------------------\n",
            "A2:  [[0.54559577]]\n",
            "****************************************\n",
            "A0 :  [[ 5]\n",
            " [12]]\n",
            "w1 :  [[0.10065685 0.1010163 ]\n",
            " [0.10065572 0.10101453]]\n",
            "b1 :  [[0.00010294]\n",
            " [0.00010277]]\n",
            "----------------------------------------\n",
            "A1:  [[0.84699909]\n",
            " [0.8477883 ]]\n",
            "****************************************\n",
            "A1 :  [[0.84699909]\n",
            " [0.8477883 ]]\n",
            "w2 :  [[0.10609202]\n",
            " [0.10609457]]\n",
            "b2 :  [[0.00728449]]\n",
            "----------------------------------------\n",
            "A2:  [[0.54663656]]\n",
            "****************************************\n",
            "Epoch:  4 Loss -  25.79419234793675\n",
            "A0 :  [[8]\n",
            " [8]]\n",
            "w1 :  [[0.10070144 0.10112332]\n",
            " [0.10070012 0.1011211 ]]\n",
            "b1 :  [[0.00011186]\n",
            " [0.00011165]]\n",
            "----------------------------------------\n",
            "A1:  [[0.83359517]\n",
            " [0.83452837]]\n",
            "****************************************\n",
            "A1 :  [[0.83359517]\n",
            " [0.83452837]]\n",
            "w2 :  [[0.10663862]\n",
            " [0.10664168]]\n",
            "b2 :  [[0.00792983]]\n",
            "----------------------------------------\n",
            "A2:  [[0.54632149]]\n",
            "****************************************\n",
            "A0 :  [[7]\n",
            " [9]]\n",
            "w1 :  [[0.10074242 0.1011643 ]\n",
            " [0.10074092 0.1011619 ]]\n",
            "b1 :  [[0.00011698]\n",
            " [0.00011675]]\n",
            "----------------------------------------\n",
            "A1:  [[0.83368641]\n",
            " [0.83461906]]\n",
            "****************************************\n",
            "A1 :  [[0.83368641]\n",
            " [0.83461906]]\n",
            "w2 :  [[0.10692652]\n",
            " [0.1069299 ]]\n",
            "b2 :  [[0.00827519]]\n",
            "----------------------------------------\n",
            "A2:  [[0.546531]]\n",
            "****************************************\n",
            "A0 :  [[ 6]\n",
            " [10]]\n",
            "w1 :  [[0.1007888  0.10122393]\n",
            " [0.10078709 0.10122126]]\n",
            "b1 :  [[0.00012361]\n",
            " [0.00012334]]\n",
            "----------------------------------------\n",
            "A1:  [[0.83378969]\n",
            " [0.83475092]]\n",
            "****************************************\n",
            "A1 :  [[0.83378969]\n",
            " [0.83475092]]\n",
            "w2 :  [[0.1072978]\n",
            " [0.1073016]]\n",
            "b2 :  [[0.00872054]]\n",
            "----------------------------------------\n",
            "A2:  [[0.54680121]]\n",
            "****************************************\n",
            "A0 :  [[ 5]\n",
            " [12]]\n",
            "w1 :  [[0.10083766 0.10130536]\n",
            " [0.10083572 0.10130232]]\n",
            "b1 :  [[0.00013175]\n",
            " [0.00013145]]\n",
            "----------------------------------------\n",
            "A1:  [[0.84739948]\n",
            " [0.84842306]]\n",
            "****************************************\n",
            "A1 :  [[0.84739948]\n",
            " [0.84842306]]\n",
            "w2 :  [[0.10775248]\n",
            " [0.1077568 ]]\n",
            "b2 :  [[0.00926586]]\n",
            "----------------------------------------\n",
            "A2:  [[0.54785274]]\n",
            "****************************************\n",
            "Epoch:  5 Loss -  25.782215684503093\n"
          ]
        }
      ]
    },
    {
      "cell_type": "markdown",
      "source": [
        "# Using Keras"
      ],
      "metadata": {
        "id": "xcAtJi40CNZ-"
      }
    },
    {
      "cell_type": "code",
      "source": [
        "import pandas as pd\n",
        "import numpy as np\n",
        "\n",
        "df= pd.DataFrame([[8,8,4], [7,9,5], [6,10,6],[5,12,7]], columns=['cgpa', 'profile_score','lpa'])\n"
      ],
      "metadata": {
        "id": "ZvOcUE2oCNIg"
      },
      "execution_count": null,
      "outputs": []
    },
    {
      "cell_type": "code",
      "source": [
        "import tensorflow\n",
        "from tensorflow import keras\n",
        "from keras.layers import Dense\n",
        "from keras import Sequential"
      ],
      "metadata": {
        "id": "28PpQTgsCWTC"
      },
      "execution_count": null,
      "outputs": []
    },
    {
      "cell_type": "code",
      "source": [
        "model = Sequential()\n",
        "model.add(Dense(2, activation='linear', input_dim=2))\n",
        "model.add(Dense(2, activation='linear'))"
      ],
      "metadata": {
        "colab": {
          "base_uri": "https://localhost:8080/"
        },
        "id": "aZ21Zq3YCWQq",
        "outputId": "f24f34da-497d-44c0-ae47-bcee6fb17a2c"
      },
      "execution_count": null,
      "outputs": [
        {
          "output_type": "stream",
          "name": "stderr",
          "text": [
            "/usr/local/lib/python3.12/dist-packages/keras/src/layers/core/dense.py:93: UserWarning: Do not pass an `input_shape`/`input_dim` argument to a layer. When using Sequential models, prefer using an `Input(shape)` object as the first layer in the model instead.\n",
            "  super().__init__(activity_regularizer=activity_regularizer, **kwargs)\n"
          ]
        }
      ]
    },
    {
      "cell_type": "code",
      "source": [
        "model.summary()"
      ],
      "metadata": {
        "colab": {
          "base_uri": "https://localhost:8080/",
          "height": 193
        },
        "id": "UM7YyfC0CWOm",
        "outputId": "82ae8346-1e33-4966-eeb9-66108682ee08"
      },
      "execution_count": null,
      "outputs": [
        {
          "output_type": "display_data",
          "data": {
            "text/plain": [
              "\u001b[1mModel: \"sequential\"\u001b[0m\n"
            ],
            "text/html": [
              "<pre style=\"white-space:pre;overflow-x:auto;line-height:normal;font-family:Menlo,'DejaVu Sans Mono',consolas,'Courier New',monospace\"><span style=\"font-weight: bold\">Model: \"sequential\"</span>\n",
              "</pre>\n"
            ]
          },
          "metadata": {}
        },
        {
          "output_type": "display_data",
          "data": {
            "text/plain": [
              "┏━━━━━━━━━━━━━━━━━━━━━━━━━━━━━━━━━┳━━━━━━━━━━━━━━━━━━━━━━━━┳━━━━━━━━━━━━━━━┓\n",
              "┃\u001b[1m \u001b[0m\u001b[1mLayer (type)                   \u001b[0m\u001b[1m \u001b[0m┃\u001b[1m \u001b[0m\u001b[1mOutput Shape          \u001b[0m\u001b[1m \u001b[0m┃\u001b[1m \u001b[0m\u001b[1m      Param #\u001b[0m\u001b[1m \u001b[0m┃\n",
              "┡━━━━━━━━━━━━━━━━━━━━━━━━━━━━━━━━━╇━━━━━━━━━━━━━━━━━━━━━━━━╇━━━━━━━━━━━━━━━┩\n",
              "│ dense (\u001b[38;5;33mDense\u001b[0m)                   │ (\u001b[38;5;45mNone\u001b[0m, \u001b[38;5;34m2\u001b[0m)              │             \u001b[38;5;34m6\u001b[0m │\n",
              "├─────────────────────────────────┼────────────────────────┼───────────────┤\n",
              "│ dense_1 (\u001b[38;5;33mDense\u001b[0m)                 │ (\u001b[38;5;45mNone\u001b[0m, \u001b[38;5;34m2\u001b[0m)              │             \u001b[38;5;34m6\u001b[0m │\n",
              "└─────────────────────────────────┴────────────────────────┴───────────────┘\n"
            ],
            "text/html": [
              "<pre style=\"white-space:pre;overflow-x:auto;line-height:normal;font-family:Menlo,'DejaVu Sans Mono',consolas,'Courier New',monospace\">┏━━━━━━━━━━━━━━━━━━━━━━━━━━━━━━━━━┳━━━━━━━━━━━━━━━━━━━━━━━━┳━━━━━━━━━━━━━━━┓\n",
              "┃<span style=\"font-weight: bold\"> Layer (type)                    </span>┃<span style=\"font-weight: bold\"> Output Shape           </span>┃<span style=\"font-weight: bold\">       Param # </span>┃\n",
              "┡━━━━━━━━━━━━━━━━━━━━━━━━━━━━━━━━━╇━━━━━━━━━━━━━━━━━━━━━━━━╇━━━━━━━━━━━━━━━┩\n",
              "│ dense (<span style=\"color: #0087ff; text-decoration-color: #0087ff\">Dense</span>)                   │ (<span style=\"color: #00d7ff; text-decoration-color: #00d7ff\">None</span>, <span style=\"color: #00af00; text-decoration-color: #00af00\">2</span>)              │             <span style=\"color: #00af00; text-decoration-color: #00af00\">6</span> │\n",
              "├─────────────────────────────────┼────────────────────────┼───────────────┤\n",
              "│ dense_1 (<span style=\"color: #0087ff; text-decoration-color: #0087ff\">Dense</span>)                 │ (<span style=\"color: #00d7ff; text-decoration-color: #00d7ff\">None</span>, <span style=\"color: #00af00; text-decoration-color: #00af00\">2</span>)              │             <span style=\"color: #00af00; text-decoration-color: #00af00\">6</span> │\n",
              "└─────────────────────────────────┴────────────────────────┴───────────────┘\n",
              "</pre>\n"
            ]
          },
          "metadata": {}
        },
        {
          "output_type": "display_data",
          "data": {
            "text/plain": [
              "\u001b[1m Total params: \u001b[0m\u001b[38;5;34m12\u001b[0m (48.00 B)\n"
            ],
            "text/html": [
              "<pre style=\"white-space:pre;overflow-x:auto;line-height:normal;font-family:Menlo,'DejaVu Sans Mono',consolas,'Courier New',monospace\"><span style=\"font-weight: bold\"> Total params: </span><span style=\"color: #00af00; text-decoration-color: #00af00\">12</span> (48.00 B)\n",
              "</pre>\n"
            ]
          },
          "metadata": {}
        },
        {
          "output_type": "display_data",
          "data": {
            "text/plain": [
              "\u001b[1m Trainable params: \u001b[0m\u001b[38;5;34m12\u001b[0m (48.00 B)\n"
            ],
            "text/html": [
              "<pre style=\"white-space:pre;overflow-x:auto;line-height:normal;font-family:Menlo,'DejaVu Sans Mono',consolas,'Courier New',monospace\"><span style=\"font-weight: bold\"> Trainable params: </span><span style=\"color: #00af00; text-decoration-color: #00af00\">12</span> (48.00 B)\n",
              "</pre>\n"
            ]
          },
          "metadata": {}
        },
        {
          "output_type": "display_data",
          "data": {
            "text/plain": [
              "\u001b[1m Non-trainable params: \u001b[0m\u001b[38;5;34m0\u001b[0m (0.00 B)\n"
            ],
            "text/html": [
              "<pre style=\"white-space:pre;overflow-x:auto;line-height:normal;font-family:Menlo,'DejaVu Sans Mono',consolas,'Courier New',monospace\"><span style=\"font-weight: bold\"> Non-trainable params: </span><span style=\"color: #00af00; text-decoration-color: #00af00\">0</span> (0.00 B)\n",
              "</pre>\n"
            ]
          },
          "metadata": {}
        }
      ]
    },
    {
      "cell_type": "code",
      "source": [
        "model.get_weights()"
      ],
      "metadata": {
        "colab": {
          "base_uri": "https://localhost:8080/"
        },
        "id": "V_OacOCTCmSU",
        "outputId": "8b9439b2-b60c-4821-e6fa-021cc96d34d2"
      },
      "execution_count": null,
      "outputs": [
        {
          "output_type": "execute_result",
          "data": {
            "text/plain": [
              "[array([[-1.0486473 , -0.10288918],\n",
              "        [-1.181135  , -0.3072564 ]], dtype=float32),\n",
              " array([0., 0.], dtype=float32),\n",
              " array([[-0.13712883,  0.87515986],\n",
              "        [ 0.09131694, -0.75910956]], dtype=float32),\n",
              " array([0., 0.], dtype=float32)]"
            ]
          },
          "metadata": {},
          "execution_count": 27
        }
      ]
    },
    {
      "cell_type": "code",
      "source": [
        "optimizer = keras.optimizers.Adam(learning_rate=0.001)\n",
        "model.compile(loss='mean_squared_error', optimizer=optimizer)\n",
        "model.build(input_shape=(None, 2)) # Explicitly build the model"
      ],
      "metadata": {
        "id": "6ryb6UhTCsZX"
      },
      "execution_count": null,
      "outputs": []
    },
    {
      "cell_type": "code",
      "source": [
        "model.fit(df.iloc[:,0:-1].values, df.iloc[:,-1].values, epochs=75, verbose=1,batch_size=1)"
      ],
      "metadata": {
        "id": "5ucB9mHLCxZV",
        "outputId": "c100f305-930a-4b17-8b96-c9561ac15acb",
        "colab": {
          "base_uri": "https://localhost:8080/"
        }
      },
      "execution_count": null,
      "outputs": [
        {
          "output_type": "stream",
          "name": "stdout",
          "text": [
            "Epoch 1/75\n",
            "\u001b[1m4/4\u001b[0m \u001b[32m━━━━━━━━━━━━━━━━━━━━\u001b[0m\u001b[37m\u001b[0m \u001b[1m1s\u001b[0m 7ms/step - loss: 169.6979  \n",
            "Epoch 2/75\n",
            "\u001b[1m4/4\u001b[0m \u001b[32m━━━━━━━━━━━━━━━━━━━━\u001b[0m\u001b[37m\u001b[0m \u001b[1m0s\u001b[0m 6ms/step - loss: 185.1547 \n",
            "Epoch 3/75\n",
            "\u001b[1m4/4\u001b[0m \u001b[32m━━━━━━━━━━━━━━━━━━━━\u001b[0m\u001b[37m\u001b[0m \u001b[1m0s\u001b[0m 6ms/step - loss: 185.1532 \n",
            "Epoch 4/75\n",
            "\u001b[1m4/4\u001b[0m \u001b[32m━━━━━━━━━━━━━━━━━━━━\u001b[0m\u001b[37m\u001b[0m \u001b[1m0s\u001b[0m 7ms/step - loss: 172.1783 \n",
            "Epoch 5/75\n",
            "\u001b[1m4/4\u001b[0m \u001b[32m━━━━━━━━━━━━━━━━━━━━\u001b[0m\u001b[37m\u001b[0m \u001b[1m0s\u001b[0m 8ms/step - loss: 179.5525 \n",
            "Epoch 6/75\n",
            "\u001b[1m4/4\u001b[0m \u001b[32m━━━━━━━━━━━━━━━━━━━━\u001b[0m\u001b[37m\u001b[0m \u001b[1m0s\u001b[0m 6ms/step - loss: 152.3257 \n",
            "Epoch 7/75\n",
            "\u001b[1m4/4\u001b[0m \u001b[32m━━━━━━━━━━━━━━━━━━━━\u001b[0m\u001b[37m\u001b[0m \u001b[1m0s\u001b[0m 6ms/step - loss: 166.6083 \n",
            "Epoch 8/75\n",
            "\u001b[1m4/4\u001b[0m \u001b[32m━━━━━━━━━━━━━━━━━━━━\u001b[0m\u001b[37m\u001b[0m \u001b[1m0s\u001b[0m 6ms/step - loss: 153.6257 \n",
            "Epoch 9/75\n",
            "\u001b[1m4/4\u001b[0m \u001b[32m━━━━━━━━━━━━━━━━━━━━\u001b[0m\u001b[37m\u001b[0m \u001b[1m0s\u001b[0m 6ms/step - loss: 147.1285 \n",
            "Epoch 10/75\n",
            "\u001b[1m4/4\u001b[0m \u001b[32m━━━━━━━━━━━━━━━━━━━━\u001b[0m\u001b[37m\u001b[0m \u001b[1m0s\u001b[0m 6ms/step - loss: 160.1254 \n",
            "Epoch 11/75\n",
            "\u001b[1m4/4\u001b[0m \u001b[32m━━━━━━━━━━━━━━━━━━━━\u001b[0m\u001b[37m\u001b[0m \u001b[1m0s\u001b[0m 7ms/step - loss: 151.8160 \n",
            "Epoch 12/75\n",
            "\u001b[1m4/4\u001b[0m \u001b[32m━━━━━━━━━━━━━━━━━━━━\u001b[0m\u001b[37m\u001b[0m \u001b[1m0s\u001b[0m 7ms/step - loss: 136.8580 \n",
            "Epoch 13/75\n",
            "\u001b[1m4/4\u001b[0m \u001b[32m━━━━━━━━━━━━━━━━━━━━\u001b[0m\u001b[37m\u001b[0m \u001b[1m0s\u001b[0m 6ms/step - loss: 139.9520 \n",
            "Epoch 14/75\n",
            "\u001b[1m4/4\u001b[0m \u001b[32m━━━━━━━━━━━━━━━━━━━━\u001b[0m\u001b[37m\u001b[0m \u001b[1m0s\u001b[0m 7ms/step - loss: 124.3943 \n",
            "Epoch 15/75\n",
            "\u001b[1m4/4\u001b[0m \u001b[32m━━━━━━━━━━━━━━━━━━━━\u001b[0m\u001b[37m\u001b[0m \u001b[1m0s\u001b[0m 8ms/step - loss: 130.6947 \n",
            "Epoch 16/75\n",
            "\u001b[1m4/4\u001b[0m \u001b[32m━━━━━━━━━━━━━━━━━━━━\u001b[0m\u001b[37m\u001b[0m \u001b[1m0s\u001b[0m 7ms/step - loss: 136.7629 \n",
            "Epoch 17/75\n",
            "\u001b[1m4/4\u001b[0m \u001b[32m━━━━━━━━━━━━━━━━━━━━\u001b[0m\u001b[37m\u001b[0m \u001b[1m0s\u001b[0m 7ms/step - loss: 119.8783\n",
            "Epoch 18/75\n",
            "\u001b[1m4/4\u001b[0m \u001b[32m━━━━━━━━━━━━━━━━━━━━\u001b[0m\u001b[37m\u001b[0m \u001b[1m0s\u001b[0m 6ms/step - loss: 110.6139\n",
            "Epoch 19/75\n",
            "\u001b[1m4/4\u001b[0m \u001b[32m━━━━━━━━━━━━━━━━━━━━\u001b[0m\u001b[37m\u001b[0m \u001b[1m0s\u001b[0m 6ms/step - loss: 107.8280\n",
            "Epoch 20/75\n",
            "\u001b[1m4/4\u001b[0m \u001b[32m━━━━━━━━━━━━━━━━━━━━\u001b[0m\u001b[37m\u001b[0m \u001b[1m0s\u001b[0m 6ms/step - loss: 124.0263 \n",
            "Epoch 21/75\n",
            "\u001b[1m4/4\u001b[0m \u001b[32m━━━━━━━━━━━━━━━━━━━━\u001b[0m\u001b[37m\u001b[0m \u001b[1m0s\u001b[0m 6ms/step - loss: 104.0965\n",
            "Epoch 22/75\n",
            "\u001b[1m4/4\u001b[0m \u001b[32m━━━━━━━━━━━━━━━━━━━━\u001b[0m\u001b[37m\u001b[0m \u001b[1m0s\u001b[0m 6ms/step - loss: 104.0177\n",
            "Epoch 23/75\n",
            "\u001b[1m4/4\u001b[0m \u001b[32m━━━━━━━━━━━━━━━━━━━━\u001b[0m\u001b[37m\u001b[0m \u001b[1m0s\u001b[0m 6ms/step - loss: 101.5043\n",
            "Epoch 24/75\n",
            "\u001b[1m4/4\u001b[0m \u001b[32m━━━━━━━━━━━━━━━━━━━━\u001b[0m\u001b[37m\u001b[0m \u001b[1m0s\u001b[0m 6ms/step - loss: 110.6169 \n",
            "Epoch 25/75\n",
            "\u001b[1m4/4\u001b[0m \u001b[32m━━━━━━━━━━━━━━━━━━━━\u001b[0m\u001b[37m\u001b[0m \u001b[1m0s\u001b[0m 6ms/step - loss: 97.4779 \n",
            "Epoch 26/75\n",
            "\u001b[1m4/4\u001b[0m \u001b[32m━━━━━━━━━━━━━━━━━━━━\u001b[0m\u001b[37m\u001b[0m \u001b[1m0s\u001b[0m 7ms/step - loss: 92.2058 \n",
            "Epoch 27/75\n",
            "\u001b[1m4/4\u001b[0m \u001b[32m━━━━━━━━━━━━━━━━━━━━\u001b[0m\u001b[37m\u001b[0m \u001b[1m0s\u001b[0m 6ms/step - loss: 92.5304 \n",
            "Epoch 28/75\n",
            "\u001b[1m4/4\u001b[0m \u001b[32m━━━━━━━━━━━━━━━━━━━━\u001b[0m\u001b[37m\u001b[0m \u001b[1m0s\u001b[0m 7ms/step - loss: 104.3674 \n",
            "Epoch 29/75\n",
            "\u001b[1m4/4\u001b[0m \u001b[32m━━━━━━━━━━━━━━━━━━━━\u001b[0m\u001b[37m\u001b[0m \u001b[1m0s\u001b[0m 6ms/step - loss: 100.8597 \n",
            "Epoch 30/75\n",
            "\u001b[1m4/4\u001b[0m \u001b[32m━━━━━━━━━━━━━━━━━━━━\u001b[0m\u001b[37m\u001b[0m \u001b[1m0s\u001b[0m 6ms/step - loss: 94.6951 \n",
            "Epoch 31/75\n",
            "\u001b[1m4/4\u001b[0m \u001b[32m━━━━━━━━━━━━━━━━━━━━\u001b[0m\u001b[37m\u001b[0m \u001b[1m0s\u001b[0m 6ms/step - loss: 82.9675 \n",
            "Epoch 32/75\n",
            "\u001b[1m4/4\u001b[0m \u001b[32m━━━━━━━━━━━━━━━━━━━━\u001b[0m\u001b[37m\u001b[0m \u001b[1m0s\u001b[0m 6ms/step - loss: 80.7403 \n",
            "Epoch 33/75\n",
            "\u001b[1m4/4\u001b[0m \u001b[32m━━━━━━━━━━━━━━━━━━━━\u001b[0m\u001b[37m\u001b[0m \u001b[1m0s\u001b[0m 6ms/step - loss: 73.8558 \n",
            "Epoch 34/75\n",
            "\u001b[1m4/4\u001b[0m \u001b[32m━━━━━━━━━━━━━━━━━━━━\u001b[0m\u001b[37m\u001b[0m \u001b[1m0s\u001b[0m 6ms/step - loss: 85.1929 \n",
            "Epoch 35/75\n",
            "\u001b[1m4/4\u001b[0m \u001b[32m━━━━━━━━━━━━━━━━━━━━\u001b[0m\u001b[37m\u001b[0m \u001b[1m0s\u001b[0m 6ms/step - loss: 71.0266 \n",
            "Epoch 36/75\n",
            "\u001b[1m4/4\u001b[0m \u001b[32m━━━━━━━━━━━━━━━━━━━━\u001b[0m\u001b[37m\u001b[0m \u001b[1m0s\u001b[0m 6ms/step - loss: 69.9392 \n",
            "Epoch 37/75\n",
            "\u001b[1m4/4\u001b[0m \u001b[32m━━━━━━━━━━━━━━━━━━━━\u001b[0m\u001b[37m\u001b[0m \u001b[1m0s\u001b[0m 6ms/step - loss: 79.2932 \n",
            "Epoch 38/75\n",
            "\u001b[1m4/4\u001b[0m \u001b[32m━━━━━━━━━━━━━━━━━━━━\u001b[0m\u001b[37m\u001b[0m \u001b[1m0s\u001b[0m 6ms/step - loss: 66.0147 \n",
            "Epoch 39/75\n",
            "\u001b[1m4/4\u001b[0m \u001b[32m━━━━━━━━━━━━━━━━━━━━\u001b[0m\u001b[37m\u001b[0m \u001b[1m0s\u001b[0m 7ms/step - loss: 65.2599 \n",
            "Epoch 40/75\n",
            "\u001b[1m4/4\u001b[0m \u001b[32m━━━━━━━━━━━━━━━━━━━━\u001b[0m\u001b[37m\u001b[0m \u001b[1m0s\u001b[0m 6ms/step - loss: 65.1250 \n",
            "Epoch 41/75\n",
            "\u001b[1m4/4\u001b[0m \u001b[32m━━━━━━━━━━━━━━━━━━━━\u001b[0m\u001b[37m\u001b[0m \u001b[1m0s\u001b[0m 6ms/step - loss: 65.7867 \n",
            "Epoch 42/75\n",
            "\u001b[1m4/4\u001b[0m \u001b[32m━━━━━━━━━━━━━━━━━━━━\u001b[0m\u001b[37m\u001b[0m \u001b[1m0s\u001b[0m 6ms/step - loss: 67.6515 \n",
            "Epoch 43/75\n",
            "\u001b[1m4/4\u001b[0m \u001b[32m━━━━━━━━━━━━━━━━━━━━\u001b[0m\u001b[37m\u001b[0m \u001b[1m0s\u001b[0m 6ms/step - loss: 61.1915 \n",
            "Epoch 44/75\n",
            "\u001b[1m4/4\u001b[0m \u001b[32m━━━━━━━━━━━━━━━━━━━━\u001b[0m\u001b[37m\u001b[0m \u001b[1m0s\u001b[0m 7ms/step - loss: 54.4791 \n",
            "Epoch 45/75\n",
            "\u001b[1m4/4\u001b[0m \u001b[32m━━━━━━━━━━━━━━━━━━━━\u001b[0m\u001b[37m\u001b[0m \u001b[1m0s\u001b[0m 6ms/step - loss: 64.7192 \n",
            "Epoch 46/75\n",
            "\u001b[1m4/4\u001b[0m \u001b[32m━━━━━━━━━━━━━━━━━━━━\u001b[0m\u001b[37m\u001b[0m \u001b[1m0s\u001b[0m 6ms/step - loss: 61.5728 \n",
            "Epoch 47/75\n",
            "\u001b[1m4/4\u001b[0m \u001b[32m━━━━━━━━━━━━━━━━━━━━\u001b[0m\u001b[37m\u001b[0m \u001b[1m0s\u001b[0m 7ms/step - loss: 51.3727 \n",
            "Epoch 48/75\n",
            "\u001b[1m4/4\u001b[0m \u001b[32m━━━━━━━━━━━━━━━━━━━━\u001b[0m\u001b[37m\u001b[0m \u001b[1m0s\u001b[0m 6ms/step - loss: 60.3066 \n",
            "Epoch 49/75\n",
            "\u001b[1m4/4\u001b[0m \u001b[32m━━━━━━━━━━━━━━━━━━━━\u001b[0m\u001b[37m\u001b[0m \u001b[1m0s\u001b[0m 6ms/step - loss: 56.3445 \n",
            "Epoch 50/75\n",
            "\u001b[1m4/4\u001b[0m \u001b[32m━━━━━━━━━━━━━━━━━━━━\u001b[0m\u001b[37m\u001b[0m \u001b[1m0s\u001b[0m 8ms/step - loss: 54.0615 \n",
            "Epoch 51/75\n",
            "\u001b[1m4/4\u001b[0m \u001b[32m━━━━━━━━━━━━━━━━━━━━\u001b[0m\u001b[37m\u001b[0m \u001b[1m0s\u001b[0m 5ms/step - loss: 50.1468 \n",
            "Epoch 52/75\n",
            "\u001b[1m4/4\u001b[0m \u001b[32m━━━━━━━━━━━━━━━━━━━━\u001b[0m\u001b[37m\u001b[0m \u001b[1m0s\u001b[0m 6ms/step - loss: 41.4871 \n",
            "Epoch 53/75\n",
            "\u001b[1m4/4\u001b[0m \u001b[32m━━━━━━━━━━━━━━━━━━━━\u001b[0m\u001b[37m\u001b[0m \u001b[1m0s\u001b[0m 7ms/step - loss: 40.1742 \n",
            "Epoch 54/75\n",
            "\u001b[1m4/4\u001b[0m \u001b[32m━━━━━━━━━━━━━━━━━━━━\u001b[0m\u001b[37m\u001b[0m \u001b[1m0s\u001b[0m 6ms/step - loss: 43.8394 \n",
            "Epoch 55/75\n",
            "\u001b[1m4/4\u001b[0m \u001b[32m━━━━━━━━━━━━━━━━━━━━\u001b[0m\u001b[37m\u001b[0m \u001b[1m0s\u001b[0m 6ms/step - loss: 38.4359 \n",
            "Epoch 56/75\n",
            "\u001b[1m4/4\u001b[0m \u001b[32m━━━━━━━━━━━━━━━━━━━━\u001b[0m\u001b[37m\u001b[0m \u001b[1m0s\u001b[0m 6ms/step - loss: 45.4400 \n",
            "Epoch 57/75\n",
            "\u001b[1m4/4\u001b[0m \u001b[32m━━━━━━━━━━━━━━━━━━━━\u001b[0m\u001b[37m\u001b[0m \u001b[1m0s\u001b[0m 6ms/step - loss: 40.0564 \n",
            "Epoch 58/75\n",
            "\u001b[1m4/4\u001b[0m \u001b[32m━━━━━━━━━━━━━━━━━━━━\u001b[0m\u001b[37m\u001b[0m \u001b[1m0s\u001b[0m 7ms/step - loss: 43.7738 \n",
            "Epoch 59/75\n",
            "\u001b[1m4/4\u001b[0m \u001b[32m━━━━━━━━━━━━━━━━━━━━\u001b[0m\u001b[37m\u001b[0m \u001b[1m0s\u001b[0m 6ms/step - loss: 37.9393 \n",
            "Epoch 60/75\n",
            "\u001b[1m4/4\u001b[0m \u001b[32m━━━━━━━━━━━━━━━━━━━━\u001b[0m\u001b[37m\u001b[0m \u001b[1m0s\u001b[0m 7ms/step - loss: 41.8961 \n",
            "Epoch 61/75\n",
            "\u001b[1m4/4\u001b[0m \u001b[32m━━━━━━━━━━━━━━━━━━━━\u001b[0m\u001b[37m\u001b[0m \u001b[1m0s\u001b[0m 6ms/step - loss: 31.4372 \n",
            "Epoch 62/75\n",
            "\u001b[1m4/4\u001b[0m \u001b[32m━━━━━━━━━━━━━━━━━━━━\u001b[0m\u001b[37m\u001b[0m \u001b[1m0s\u001b[0m 6ms/step - loss: 31.5934 \n",
            "Epoch 63/75\n",
            "\u001b[1m4/4\u001b[0m \u001b[32m━━━━━━━━━━━━━━━━━━━━\u001b[0m\u001b[37m\u001b[0m \u001b[1m0s\u001b[0m 7ms/step - loss: 31.1487 \n",
            "Epoch 64/75\n",
            "\u001b[1m4/4\u001b[0m \u001b[32m━━━━━━━━━━━━━━━━━━━━\u001b[0m\u001b[37m\u001b[0m \u001b[1m0s\u001b[0m 6ms/step - loss: 36.5098 \n",
            "Epoch 65/75\n",
            "\u001b[1m4/4\u001b[0m \u001b[32m━━━━━━━━━━━━━━━━━━━━\u001b[0m\u001b[37m\u001b[0m \u001b[1m0s\u001b[0m 7ms/step - loss: 33.5253 \n",
            "Epoch 66/75\n",
            "\u001b[1m4/4\u001b[0m \u001b[32m━━━━━━━━━━━━━━━━━━━━\u001b[0m\u001b[37m\u001b[0m \u001b[1m0s\u001b[0m 6ms/step - loss: 28.0563 \n",
            "Epoch 67/75\n",
            "\u001b[1m4/4\u001b[0m \u001b[32m━━━━━━━━━━━━━━━━━━━━\u001b[0m\u001b[37m\u001b[0m \u001b[1m0s\u001b[0m 6ms/step - loss: 28.5184 \n",
            "Epoch 68/75\n",
            "\u001b[1m4/4\u001b[0m \u001b[32m━━━━━━━━━━━━━━━━━━━━\u001b[0m\u001b[37m\u001b[0m \u001b[1m0s\u001b[0m 6ms/step - loss: 24.9281 \n",
            "Epoch 69/75\n",
            "\u001b[1m4/4\u001b[0m \u001b[32m━━━━━━━━━━━━━━━━━━━━\u001b[0m\u001b[37m\u001b[0m \u001b[1m0s\u001b[0m 10ms/step - loss: 27.9900\n",
            "Epoch 70/75\n",
            "\u001b[1m4/4\u001b[0m \u001b[32m━━━━━━━━━━━━━━━━━━━━\u001b[0m\u001b[37m\u001b[0m \u001b[1m0s\u001b[0m 6ms/step - loss: 28.2224 \n",
            "Epoch 71/75\n",
            "\u001b[1m4/4\u001b[0m \u001b[32m━━━━━━━━━━━━━━━━━━━━\u001b[0m\u001b[37m\u001b[0m \u001b[1m0s\u001b[0m 6ms/step - loss: 21.3396 \n",
            "Epoch 72/75\n",
            "\u001b[1m4/4\u001b[0m \u001b[32m━━━━━━━━━━━━━━━━━━━━\u001b[0m\u001b[37m\u001b[0m \u001b[1m0s\u001b[0m 7ms/step - loss: 26.6681 \n",
            "Epoch 73/75\n",
            "\u001b[1m4/4\u001b[0m \u001b[32m━━━━━━━━━━━━━━━━━━━━\u001b[0m\u001b[37m\u001b[0m \u001b[1m0s\u001b[0m 6ms/step - loss: 22.1522 \n",
            "Epoch 74/75\n",
            "\u001b[1m4/4\u001b[0m \u001b[32m━━━━━━━━━━━━━━━━━━━━\u001b[0m\u001b[37m\u001b[0m \u001b[1m0s\u001b[0m 6ms/step - loss: 24.8659 \n",
            "Epoch 75/75\n",
            "\u001b[1m4/4\u001b[0m \u001b[32m━━━━━━━━━━━━━━━━━━━━\u001b[0m\u001b[37m\u001b[0m \u001b[1m0s\u001b[0m 6ms/step - loss: 18.3112 \n"
          ]
        },
        {
          "output_type": "execute_result",
          "data": {
            "text/plain": [
              "<keras.src.callbacks.history.History at 0x7e5a52e5ddc0>"
            ]
          },
          "metadata": {},
          "execution_count": 29
        }
      ]
    },
    {
      "cell_type": "code",
      "source": [],
      "metadata": {
        "id": "iWcCsIvCCxXA"
      },
      "execution_count": null,
      "outputs": []
    }
  ]
}